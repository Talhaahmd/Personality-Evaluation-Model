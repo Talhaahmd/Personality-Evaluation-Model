{
  "nbformat": 4,
  "nbformat_minor": 0,
  "metadata": {
    "colab": {
      "provenance": [],
      "authorship_tag": "ABX9TyP3ZC6xaXZ7tMStTSdVAonG",
      "include_colab_link": true
    },
    "kernelspec": {
      "name": "python3",
      "display_name": "Python 3"
    },
    "language_info": {
      "name": "python"
    }
  },
  "cells": [
    {
      "cell_type": "markdown",
      "metadata": {
        "id": "view-in-github",
        "colab_type": "text"
      },
      "source": [
        "<a href=\"https://colab.research.google.com/github/Talhaahmd/Personality-Evaluation-Model/blob/main/Image_analysis.ipynb\" target=\"_parent\"><img src=\"https://colab.research.google.com/assets/colab-badge.svg\" alt=\"Open In Colab\"/></a>"
      ]
    },
    {
      "cell_type": "code",
      "source": [
        "import os\n",
        "import numpy as np\n",
        "import tensorflow as tf\n",
        "from tensorflow import keras\n",
        "from tensorflow.keras.layers import Conv2D, BatchNormalization, Dropout, Flatten, Input, Dense, MaxPooling2D, Reshape\n",
        "from tensorflow.keras.optimizers import Adam\n",
        "from tensorflow.keras.models import Model, model_from_json, load_model\n",
        "from tensorflow.keras.callbacks import ReduceLROnPlateau\n",
        "from tensorflow.keras.losses import MeanSquaredError\n",
        "from tensorflow.keras import backend as K\n",
        "from PIL import Image, ImageOps\n",
        "import pickle\n",
        "import time\n",
        "import tqdm\n",
        "import math"
      ],
      "metadata": {
        "id": "DVe0rnVErVYR"
      },
      "execution_count": 1,
      "outputs": []
    },
    {
      "cell_type": "code",
      "source": [
        "input_cla = Input(shape=(208,208,1,))\n",
        "\n",
        "fm_size = 16;\n",
        "x = Conv2D(fm_size, (3,3), activation='relu', padding='same')(input_cla)\n",
        "x = MaxPooling2D((2, 2), padding='same')(x)\n",
        "\n",
        "fm_size = fm_size*2;\n",
        "x = Conv2D(fm_size, (3,3), activation='relu', padding='same')(x)\n",
        "x = MaxPooling2D((2, 2), padding='same')(x)\n",
        "\n",
        "fm_size = fm_size*2;\n",
        "x = Conv2D(fm_size, (3,3), activation='relu', padding='same')(x)\n",
        "x = MaxPooling2D((2, 2), padding='same')(x)\n",
        "\n",
        "fm_size = fm_size*2;\n",
        "x = Conv2D(fm_size, (3,3), activation='relu', padding='same')(x)\n",
        "x = MaxPooling2D((2, 2), padding='same')(x)\n",
        "\n",
        "fm_size = fm_size*2;\n",
        "x = Conv2D(fm_size, (3,3), activation='relu', padding='same')(x)\n",
        "x = MaxPooling2D((2, 2), padding='same')(x)\n",
        "\n",
        "fm_size = fm_size*2;\n",
        "x = Conv2D(fm_size, (3,3), activation='relu', padding='same')(x)\n",
        "x = MaxPooling2D((2, 2), padding='same')(x)\n",
        "\n",
        "fm_size = fm_size*2;\n",
        "x = Conv2D(fm_size, (3,3), activation='relu', padding='same')(x)\n",
        "x = MaxPooling2D((2, 2), padding='same')(x)\n",
        "\n",
        "fm_size = fm_size*2;\n",
        "x = Conv2D(fm_size, (3,3), activation='relu', padding='same')(x)\n",
        "x = MaxPooling2D((2, 2), padding='same')(x)\n",
        "\n",
        "em_size = math.ceil(208/(2**8));\n",
        "\n",
        "x = Reshape((em_size*em_size*fm_size,),input_shape=(em_size,em_size,fm_size))(x)\n",
        "x=Dense(50,activation='relu', input_shape=(em_size*em_size*fm_size,))(x)\n",
        "x=Dense(50,activation='relu')(x)\n",
        "x=Dense(10,activation='relu')(x)\n",
        "output=Dense(5)(x)\n",
        "\n",
        "classifier = Model(input_cla, output)\n",
        "adam = Adam(lr=1e-4)\n",
        "loss = MeanSquaredError()\n",
        "classifier.compile(optimizer=adam, loss=loss, metrics = [tf.keras.metrics.MeanSquaredError()])\n"
      ],
      "metadata": {
        "colab": {
          "base_uri": "https://localhost:8080/"
        },
        "id": "n8cxn3EIrCXb",
        "outputId": "e4e9766a-4058-45e8-ec08-b7d1d55d53a3"
      },
      "execution_count": 2,
      "outputs": [
        {
          "output_type": "stream",
          "name": "stderr",
          "text": [
            "WARNING:absl:`lr` is deprecated in Keras optimizer, please use `learning_rate` or use the legacy optimizer, e.g.,tf.keras.optimizers.legacy.Adam.\n"
          ]
        }
      ]
    },
    {
      "cell_type": "code",
      "execution_count": 9,
      "metadata": {
        "id": "AXQ5b8i0pXLL"
      },
      "outputs": [],
      "source": [
        "# Disable scientific notation for clarity\n",
        "np.set_printoptions(suppress=True)\n",
        "\n",
        "model = load_model(\"/content/keras_model.h5\", compile=False)\n",
        "\n",
        "class_names = open(\"/content/labels.txt\", \"r\").readlines()\n",
        "\n",
        "\n",
        "data = np.ndarray(shape=(1, 224, 224, 3), dtype=np.float32)\n",
        "\n",
        "image = Image.open(\"/content/Hammad.jpg\").convert(\"RGB\")\n",
        "\n",
        "size = (224, 224)\n",
        "image = ImageOps.fit(image, size, Image.Resampling.LANCZOS)\n",
        "\n",
        "image_array = np.asarray(image)\n",
        "\n",
        "normalized_image_array = (image_array.astype(np.float32) / 127.5) - 1\n",
        "\n",
        "data[0] = normalized_image_array\n",
        "\n",
        "messages = {\n",
        "    \"Heart\": \"you have a rich imagination, creativity, memory, good perception, entrepreneurial skills, and strong intuition. These qualities also tell that you have a high emotional intelligence level. Tich imagination, creativity, memory, good perception, entrepreneurial skills, intuitive, high emotional intelligence, strong-minded, stubborn, and loves solving complex problems.\",\n",
        "    \"Oblong\": \"you may be soft-spoken, a people person, kind, nurturing, and giving (sometimes over-giver). These qualities also make you generous and helpful. You may find joy in helping others. Soft-spoken, a people person, kind, nurturing, giving\",\n",
        "    \"Oval\": \"you are methodical, ambitious, practical, and a high achiever. You do not settle for things. You also do not tolerate wrongdoing. You may also face a lot of criticism for making noise against injustice. Though the good thing about you is that you have a knack for balancing things. Personality Traits : Methodical, ambitious, practical, high achiever, dislikes norms of society and mundane routines, a mix of introversion and extroversion, good at making others feel good.\",\n",
        "    \"Round\": \"you may be soft-spoken, a people person, kind, nurturing, and giving (sometimes over-giver). These qualities also make you generous and helpful. You may find joy in helping others. Soft-spoken, a people person, kind, nurturing, giving\",\n",
        "    \"Square\": \" you are headstrong, highly active and energetic, analytical, and quick-witted. You are found to be immensely proactive which means taking control of situations to get things done. Headstrong, highly active, energetic, analytical, quick-witted, proactive, calm under stressful situations, a leader, and a good decision-maker.\"\n",
        "}\n",
        "\n",
        "\n",
        "\n",
        "\n"
      ]
    },
    {
      "cell_type": "code",
      "source": [
        "def predict_shape(image_path):\n",
        "    data = np.ndarray(shape=(1, 224, 224, 3), dtype=np.float32)\n",
        "\n",
        "    image = Image.open(image_path).convert(\"RGB\")\n",
        "    size = (224, 224)\n",
        "    image = ImageOps.fit(image, size, Image.Resampling.LANCZOS)\n",
        "    image_array = np.asarray(image)\n",
        "    normalized_image_array = (image_array.astype(np.float32) / 127.5) - 1\n",
        "    data[0] = normalized_image_array\n",
        "\n",
        "    prediction = model.predict(data)\n",
        "    index = np.argmax(prediction)\n",
        "    class_name = class_names[index].strip().split(' ')[1]\n",
        "    confidence_score = prediction[0][index]\n",
        "\n",
        "    print(\"Predicted Shape:\", class_name)\n",
        "    print(\"Confidence Score:\", confidence_score)\n",
        "    print(messages.get(class_name, \"Unknown shape.\"))"
      ],
      "metadata": {
        "id": "PQX3aPPStUKV"
      },
      "execution_count": 10,
      "outputs": []
    },
    {
      "cell_type": "code",
      "source": [
        "predict_shape('/content/Hammad.jpg')"
      ],
      "metadata": {
        "colab": {
          "base_uri": "https://localhost:8080/"
        },
        "id": "-3n7rh6UtVGz",
        "outputId": "d9ddeeba-8a0d-407b-b8ef-3e1fd4f5f1fa"
      },
      "execution_count": 11,
      "outputs": [
        {
          "output_type": "stream",
          "name": "stdout",
          "text": [
            "1/1 [==============================] - 1s 886ms/step\n",
            "Predicted Shape: Oblong\n",
            "Confidence Score: 0.97514296\n",
            "you may be soft-spoken, a people person, kind, nurturing, and giving (sometimes over-giver). These qualities also make you generous and helpful. You may find joy in helping others. Soft-spoken, a people person, kind, nurturing, giving\n"
          ]
        }
      ]
    },
    {
      "cell_type": "code",
      "source": [],
      "metadata": {
        "id": "Bh3un3wuuixa"
      },
      "execution_count": null,
      "outputs": []
    }
  ]
}